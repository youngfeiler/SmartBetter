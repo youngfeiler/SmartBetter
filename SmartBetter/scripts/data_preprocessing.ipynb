{
 "cells": [
  {
   "cell_type": "code",
   "execution_count": 3,
   "metadata": {},
   "outputs": [],
   "source": [
    "import pandas as pd\n",
    "import pyarrow as pa\n",
    "import pyarrow.parquet as pq\n",
    "from datetime import datetime\n",
    "import numpy as np"
   ]
  },
  {
   "attachments": {},
   "cell_type": "markdown",
   "metadata": {},
   "source": [
    "# Make team names uniform between sheets"
   ]
  },
  {
   "cell_type": "code",
   "execution_count": 3,
   "metadata": {},
   "outputs": [],
   "source": [
    "names_file ='/Users/stefanfeiler/Desktop/SmartBetter/SmartBetter/data/names.csv'"
   ]
  },
  {
   "cell_type": "code",
   "execution_count": 4,
   "metadata": {},
   "outputs": [],
   "source": [
    "df = pd.read_csv(names_file)"
   ]
  },
  {
   "cell_type": "code",
   "execution_count": 5,
   "metadata": {},
   "outputs": [],
   "source": [
    "mapping_dict = {key: value for key, value in zip(df['abbrev'], df['full_name'])}"
   ]
  },
  {
   "cell_type": "code",
   "execution_count": null,
   "metadata": {},
   "outputs": [],
   "source": [
    "extra_data_file = '/Users/stefanfeiler/Desktop/SmartBetter/SmartBetter/data/mlb_extra_stats.csv'"
   ]
  },
  {
   "cell_type": "code",
   "execution_count": null,
   "metadata": {},
   "outputs": [],
   "source": [
    "extra_df = pd.read_csv(extra_data_file)"
   ]
  },
  {
   "cell_type": "code",
   "execution_count": null,
   "metadata": {},
   "outputs": [],
   "source": [
    "extra_df = extra_df.replace(mapping_dict)"
   ]
  },
  {
   "cell_type": "code",
   "execution_count": 1,
   "metadata": {},
   "outputs": [],
   "source": [
    "extra_data_file_new = '/Users/stefanfeiler/Desktop/SmartBetter/SmartBetter/data/mlb_extra_stats_uniform_names.csv'"
   ]
  },
  {
   "cell_type": "code",
   "execution_count": null,
   "metadata": {},
   "outputs": [],
   "source": [
    "extra_df.to_csv(extra_data_file_new)"
   ]
  },
  {
   "attachments": {},
   "cell_type": "markdown",
   "metadata": {},
   "source": [
    "# Step 2: Convert all times to MST"
   ]
  },
  {
   "cell_type": "code",
   "execution_count": 4,
   "metadata": {},
   "outputs": [
    {
     "name": "stderr",
     "output_type": "stream",
     "text": [
      "/Users/stefanfeiler/Library/Python/3.9/lib/python/site-packages/IPython/core/interactiveshell.py:3505: DtypeWarning: Columns (90,92,94,96,110,112,114,116,118,120,122,124,126,128,130,132,134,136,138,140,142,144,146,148,150,152,154,156,158,160,162,164,166,168) have mixed types.Specify dtype option on import or set low_memory=False.\n",
      "  exec(code_obj, self.user_global_ns, self.user_ns)\n"
     ]
    }
   ],
   "source": [
    "raw = pd.read_csv('/Users/stefanfeiler/Desktop/SmartBetter/SmartBetter/data/mlb_raw_full.csv')"
   ]
  },
  {
   "cell_type": "code",
   "execution_count": 5,
   "metadata": {},
   "outputs": [],
   "source": [
    "# # This takes 2.5 minutes\n",
    "time_columns = [col for col in raw.columns if 'time' in col]\n",
    "raw[time_columns] = raw[time_columns].apply(lambda x: pd.to_datetime(x, format=\"%m/%d/%y %H:%M\"))"
   ]
  },
  {
   "cell_type": "code",
   "execution_count": 6,
   "metadata": {},
   "outputs": [],
   "source": [
    "#raw['commence_time'] = raw['commence_time'] - pd.Timedelta(hours=7)\n",
    "raw[time_columns] = raw[time_columns]- pd.Timedelta(hours=7)"
   ]
  },
  {
   "cell_type": "code",
   "execution_count": 7,
   "metadata": {},
   "outputs": [
    {
     "data": {
      "text/html": [
       "<div>\n",
       "<style scoped>\n",
       "    .dataframe tbody tr th:only-of-type {\n",
       "        vertical-align: middle;\n",
       "    }\n",
       "\n",
       "    .dataframe tbody tr th {\n",
       "        vertical-align: top;\n",
       "    }\n",
       "\n",
       "    .dataframe thead th {\n",
       "        text-align: right;\n",
       "    }\n",
       "</style>\n",
       "<table border=\"1\" class=\"dataframe\">\n",
       "  <thead>\n",
       "    <tr style=\"text-align: right;\">\n",
       "      <th></th>\n",
       "      <th>game_id</th>\n",
       "      <th>commence_time</th>\n",
       "      <th>time_pulled</th>\n",
       "      <th>home_team</th>\n",
       "      <th>away_team</th>\n",
       "      <th>barstool_1_odds</th>\n",
       "      <th>barstool_1_time</th>\n",
       "      <th>barstool_2_odds</th>\n",
       "      <th>barstool_2_time</th>\n",
       "      <th>betclic_1_odds</th>\n",
       "      <th>...</th>\n",
       "      <th>wynnbet_2_odds</th>\n",
       "      <th>wynnbet_2_time</th>\n",
       "      <th>Unnamed: 161</th>\n",
       "      <th>Unnamed: 162</th>\n",
       "      <th>Unnamed: 163</th>\n",
       "      <th>Unnamed: 164</th>\n",
       "      <th>Unnamed: 165</th>\n",
       "      <th>Unnamed: 166</th>\n",
       "      <th>Unnamed: 167</th>\n",
       "      <th>Unnamed: 168</th>\n",
       "    </tr>\n",
       "  </thead>\n",
       "  <tbody>\n",
       "    <tr>\n",
       "      <th>0</th>\n",
       "      <td>86dfc7d1616e06cd86ded2603130b8fb</td>\n",
       "      <td>2022-11-05 17:04:00</td>\n",
       "      <td>2022-11-05 16:55:00</td>\n",
       "      <td>Houston Astros</td>\n",
       "      <td>Philadelphia Phillies</td>\n",
       "      <td>1.66</td>\n",
       "      <td>2022-11-05 16:49:00</td>\n",
       "      <td>2.3</td>\n",
       "      <td>2022-11-05 16:49:00</td>\n",
       "      <td>1.68</td>\n",
       "      <td>...</td>\n",
       "      <td>2.39</td>\n",
       "      <td>2022-11-05 16:49:00</td>\n",
       "      <td>NaN</td>\n",
       "      <td>NaN</td>\n",
       "      <td>NaN</td>\n",
       "      <td>NaN</td>\n",
       "      <td>NaN</td>\n",
       "      <td>NaN</td>\n",
       "      <td>NaN</td>\n",
       "      <td>NaN</td>\n",
       "    </tr>\n",
       "    <tr>\n",
       "      <th>1</th>\n",
       "      <td>86dfc7d1616e06cd86ded2603130b8fb</td>\n",
       "      <td>2022-11-05 17:04:00</td>\n",
       "      <td>2022-11-05 16:45:00</td>\n",
       "      <td>Houston Astros</td>\n",
       "      <td>Philadelphia Phillies</td>\n",
       "      <td>1.66</td>\n",
       "      <td>2022-11-05 16:44:00</td>\n",
       "      <td>2.3</td>\n",
       "      <td>2022-11-05 16:44:00</td>\n",
       "      <td>1.68</td>\n",
       "      <td>...</td>\n",
       "      <td>2.39</td>\n",
       "      <td>2022-11-05 16:44:00</td>\n",
       "      <td>NaN</td>\n",
       "      <td>NaN</td>\n",
       "      <td>NaN</td>\n",
       "      <td>NaN</td>\n",
       "      <td>NaN</td>\n",
       "      <td>NaN</td>\n",
       "      <td>NaN</td>\n",
       "      <td>NaN</td>\n",
       "    </tr>\n",
       "    <tr>\n",
       "      <th>2</th>\n",
       "      <td>86dfc7d1616e06cd86ded2603130b8fb</td>\n",
       "      <td>2022-11-05 17:04:00</td>\n",
       "      <td>2022-11-05 16:40:00</td>\n",
       "      <td>Houston Astros</td>\n",
       "      <td>Philadelphia Phillies</td>\n",
       "      <td>1.66</td>\n",
       "      <td>2022-11-05 16:40:00</td>\n",
       "      <td>2.3</td>\n",
       "      <td>2022-11-05 16:40:00</td>\n",
       "      <td>1.68</td>\n",
       "      <td>...</td>\n",
       "      <td>2.39</td>\n",
       "      <td>2022-11-05 16:40:00</td>\n",
       "      <td>NaN</td>\n",
       "      <td>NaN</td>\n",
       "      <td>NaN</td>\n",
       "      <td>NaN</td>\n",
       "      <td>NaN</td>\n",
       "      <td>NaN</td>\n",
       "      <td>NaN</td>\n",
       "      <td>NaN</td>\n",
       "    </tr>\n",
       "    <tr>\n",
       "      <th>3</th>\n",
       "      <td>86dfc7d1616e06cd86ded2603130b8fb</td>\n",
       "      <td>2022-11-05 17:04:00</td>\n",
       "      <td>2022-11-05 16:35:00</td>\n",
       "      <td>Houston Astros</td>\n",
       "      <td>Philadelphia Phillies</td>\n",
       "      <td>1.66</td>\n",
       "      <td>2022-11-05 16:35:00</td>\n",
       "      <td>2.3</td>\n",
       "      <td>2022-11-05 16:35:00</td>\n",
       "      <td>1.68</td>\n",
       "      <td>...</td>\n",
       "      <td>2.39</td>\n",
       "      <td>2022-11-05 16:35:00</td>\n",
       "      <td>NaN</td>\n",
       "      <td>NaN</td>\n",
       "      <td>NaN</td>\n",
       "      <td>NaN</td>\n",
       "      <td>NaN</td>\n",
       "      <td>NaN</td>\n",
       "      <td>NaN</td>\n",
       "      <td>NaN</td>\n",
       "    </tr>\n",
       "    <tr>\n",
       "      <th>4</th>\n",
       "      <td>86dfc7d1616e06cd86ded2603130b8fb</td>\n",
       "      <td>2022-11-05 17:04:00</td>\n",
       "      <td>2022-11-05 16:30:00</td>\n",
       "      <td>Houston Astros</td>\n",
       "      <td>Philadelphia Phillies</td>\n",
       "      <td>1.66</td>\n",
       "      <td>2022-11-05 16:29:00</td>\n",
       "      <td>2.3</td>\n",
       "      <td>2022-11-05 16:29:00</td>\n",
       "      <td>1.68</td>\n",
       "      <td>...</td>\n",
       "      <td>2.39</td>\n",
       "      <td>2022-11-05 16:29:00</td>\n",
       "      <td>NaN</td>\n",
       "      <td>NaN</td>\n",
       "      <td>NaN</td>\n",
       "      <td>NaN</td>\n",
       "      <td>NaN</td>\n",
       "      <td>NaN</td>\n",
       "      <td>NaN</td>\n",
       "      <td>NaN</td>\n",
       "    </tr>\n",
       "  </tbody>\n",
       "</table>\n",
       "<p>5 rows × 169 columns</p>\n",
       "</div>"
      ],
      "text/plain": [
       "                            game_id       commence_time         time_pulled  \\\n",
       "0  86dfc7d1616e06cd86ded2603130b8fb 2022-11-05 17:04:00 2022-11-05 16:55:00   \n",
       "1  86dfc7d1616e06cd86ded2603130b8fb 2022-11-05 17:04:00 2022-11-05 16:45:00   \n",
       "2  86dfc7d1616e06cd86ded2603130b8fb 2022-11-05 17:04:00 2022-11-05 16:40:00   \n",
       "3  86dfc7d1616e06cd86ded2603130b8fb 2022-11-05 17:04:00 2022-11-05 16:35:00   \n",
       "4  86dfc7d1616e06cd86ded2603130b8fb 2022-11-05 17:04:00 2022-11-05 16:30:00   \n",
       "\n",
       "        home_team              away_team  barstool_1_odds     barstool_1_time  \\\n",
       "0  Houston Astros  Philadelphia Phillies             1.66 2022-11-05 16:49:00   \n",
       "1  Houston Astros  Philadelphia Phillies             1.66 2022-11-05 16:44:00   \n",
       "2  Houston Astros  Philadelphia Phillies             1.66 2022-11-05 16:40:00   \n",
       "3  Houston Astros  Philadelphia Phillies             1.66 2022-11-05 16:35:00   \n",
       "4  Houston Astros  Philadelphia Phillies             1.66 2022-11-05 16:29:00   \n",
       "\n",
       "   barstool_2_odds     barstool_2_time  betclic_1_odds  ... wynnbet_2_odds  \\\n",
       "0              2.3 2022-11-05 16:49:00            1.68  ...           2.39   \n",
       "1              2.3 2022-11-05 16:44:00            1.68  ...           2.39   \n",
       "2              2.3 2022-11-05 16:40:00            1.68  ...           2.39   \n",
       "3              2.3 2022-11-05 16:35:00            1.68  ...           2.39   \n",
       "4              2.3 2022-11-05 16:29:00            1.68  ...           2.39   \n",
       "\n",
       "       wynnbet_2_time Unnamed: 161  Unnamed: 162 Unnamed: 163  Unnamed: 164  \\\n",
       "0 2022-11-05 16:49:00          NaN           NaN          NaN           NaN   \n",
       "1 2022-11-05 16:44:00          NaN           NaN          NaN           NaN   \n",
       "2 2022-11-05 16:40:00          NaN           NaN          NaN           NaN   \n",
       "3 2022-11-05 16:35:00          NaN           NaN          NaN           NaN   \n",
       "4 2022-11-05 16:29:00          NaN           NaN          NaN           NaN   \n",
       "\n",
       "  Unnamed: 165  Unnamed: 166 Unnamed: 167  Unnamed: 168  \n",
       "0          NaN           NaN          NaN           NaN  \n",
       "1          NaN           NaN          NaN           NaN  \n",
       "2          NaN           NaN          NaN           NaN  \n",
       "3          NaN           NaN          NaN           NaN  \n",
       "4          NaN           NaN          NaN           NaN  \n",
       "\n",
       "[5 rows x 169 columns]"
      ]
     },
     "execution_count": 7,
     "metadata": {},
     "output_type": "execute_result"
    }
   ],
   "source": [
    "raw.head()"
   ]
  },
  {
   "attachments": {},
   "cell_type": "markdown",
   "metadata": {},
   "source": [
    "# Step 3: Make the same my_game_id values in each sheet"
   ]
  },
  {
   "cell_type": "code",
   "execution_count": 8,
   "metadata": {},
   "outputs": [],
   "source": [
    "extra = pd.read_csv(extra_data_file_new)"
   ]
  },
  {
   "cell_type": "code",
   "execution_count": 9,
   "metadata": {},
   "outputs": [],
   "source": [
    "extra['home_team_final'] = extra[['home_team', 'away_team']].min(axis=1)\n",
    "extra['away_team_final'] = extra[['home_team', 'away_team']].max(axis=1)"
   ]
  },
  {
   "cell_type": "code",
   "execution_count": 10,
   "metadata": {},
   "outputs": [],
   "source": [
    "raw['date'] = raw['commence_time'].copy().dt.strftime('%Y%m%d')\n",
    "extra['date']= extra['date'].astype(str)"
   ]
  },
  {
   "cell_type": "code",
   "execution_count": 11,
   "metadata": {},
   "outputs": [
    {
     "data": {
      "text/plain": [
       "0        2022-11-05 17:04:00\n",
       "1        2022-11-05 17:04:00\n",
       "2        2022-11-05 17:04:00\n",
       "3        2022-11-05 17:04:00\n",
       "4        2022-11-05 17:04:00\n",
       "                 ...        \n",
       "921709   2020-07-22 17:10:00\n",
       "921710   2020-07-22 18:40:00\n",
       "921711   2020-07-22 16:05:00\n",
       "921712   2020-07-22 16:30:00\n",
       "921713   2020-07-22 17:05:00\n",
       "Name: commence_time, Length: 921714, dtype: datetime64[ns]"
      ]
     },
     "execution_count": 11,
     "metadata": {},
     "output_type": "execute_result"
    }
   ],
   "source": [
    "raw['commence_time']"
   ]
  },
  {
   "cell_type": "code",
   "execution_count": 12,
   "metadata": {},
   "outputs": [],
   "source": [
    "raw['my_id'] = raw['home_team'] + raw['away_team'] + raw['date']\n",
    "extra['my_id'] = extra['home_team_final'] + extra['away_team_final'] + extra['date']"
   ]
  },
  {
   "attachments": {},
   "cell_type": "markdown",
   "metadata": {},
   "source": [
    "# Step 4: Make a complicated dict"
   ]
  },
  {
   "cell_type": "code",
   "execution_count": 13,
   "metadata": {},
   "outputs": [],
   "source": [
    "# Make a dict that maps raw my_id to raw game_id and includes duplicates\n",
    "mapping_dict = {}\n",
    "for key, value in zip(raw['my_id'], raw['game_id']):\n",
    "    if key in mapping_dict:\n",
    "        mapping_dict[key].append(value)  # Append value to existing key's list\n",
    "        mapping_dict[key] = list(set(mapping_dict[key]))\n",
    "    else:\n",
    "        mapping_dict[key] = [value]  "
   ]
  },
  {
   "cell_type": "code",
   "execution_count": 14,
   "metadata": {},
   "outputs": [
    {
     "name": "stdout",
     "output_type": "stream",
     "text": [
      "194\n"
     ]
    }
   ],
   "source": [
    "count = 0\n",
    "for key, values in mapping_dict.items():\n",
    "    if len(values) == 2:\n",
    "        count+=1\n",
    "print(count)"
   ]
  },
  {
   "cell_type": "code",
   "execution_count": 15,
   "metadata": {},
   "outputs": [
    {
     "name": "stdout",
     "output_type": "stream",
     "text": [
      "5861\n"
     ]
    }
   ],
   "source": [
    "print(len(mapping_dict))"
   ]
  },
  {
   "cell_type": "code",
   "execution_count": 16,
   "metadata": {},
   "outputs": [],
   "source": [
    "extra['number_of_game_today'] = extra['number_of_game_today'].astype(str)"
   ]
  },
  {
   "cell_type": "code",
   "execution_count": 17,
   "metadata": {},
   "outputs": [
    {
     "name": "stdout",
     "output_type": "stream",
     "text": [
      "5703\n"
     ]
    }
   ],
   "source": [
    "# Make a dict that maps extra my_id to the extra game_value (double header or not)\n",
    "extra_dict = {}\n",
    "count = 0\n",
    "for key, value in zip(extra['my_id'], extra['number_of_game_today']):\n",
    "    if key in extra_dict:\n",
    "        extra_dict[key].append(value)\n",
    "        extra_dict[key] = list(extra_dict[key])\n",
    "    else:\n",
    "        extra_dict[key] = [value]\n",
    "print(len(extra_dict))"
   ]
  },
  {
   "cell_type": "code",
   "execution_count": 18,
   "metadata": {},
   "outputs": [],
   "source": [
    "# Make a dict that maps game_id's to commence_times\n",
    "id_commence_dict = {key: value for key, value in zip(raw['game_id'], raw['commence_time'])}"
   ]
  },
  {
   "cell_type": "code",
   "execution_count": 19,
   "metadata": {},
   "outputs": [],
   "source": [
    "# Go through each mapping_dict item\n",
    "# if the length of values is 1, put it in the new dict with the suffix '_0'\n",
    "# if the length of values is 2, put it in the new dict with the proper suffix\n",
    "new_dict = {}\n",
    "for key, values in mapping_dict.items():\n",
    "    if len(values) == 1:\n",
    "        new_dict[str(str(key) + '_0')] = values[0]\n",
    "    elif len(values) == 2:\n",
    "        if id_commence_dict[values[0]] < id_commence_dict[values[1]]:\n",
    "            new_dict[str(str(key) + '_1')] = values[0]\n",
    "            new_dict[str(str(key) + '_2')] = values[1]\n",
    "        elif id_commence_dict[values[0]] > id_commence_dict[values[1]]:\n",
    "            new_dict[str(str(key) + '_2')] = values[0]\n",
    "            new_dict[str(str(key) + '_1')] = values[1]"
   ]
  },
  {
   "cell_type": "code",
   "execution_count": 20,
   "metadata": {},
   "outputs": [],
   "source": [
    "extra['my_id_game'] = extra['home_team_final'] + extra['away_team_final'] + extra['date'] + '_' + extra['number_of_game_today']"
   ]
  },
  {
   "cell_type": "code",
   "execution_count": 21,
   "metadata": {},
   "outputs": [],
   "source": [
    "my_id_game = extra['my_id_game'].tolist()"
   ]
  },
  {
   "cell_type": "code",
   "execution_count": 22,
   "metadata": {},
   "outputs": [],
   "source": [
    "count = 0\n",
    "new_list = []\n",
    "for key, value in new_dict.items():\n",
    "    if key in my_id_game:\n",
    "        new_list.append(key)\n"
   ]
  },
  {
   "cell_type": "code",
   "execution_count": 23,
   "metadata": {},
   "outputs": [
    {
     "name": "stdout",
     "output_type": "stream",
     "text": [
      "5650\n"
     ]
    }
   ],
   "source": [
    "count = 0\n",
    "for item in new_list:\n",
    "    if item in my_id_game:\n",
    "        count +=1\n",
    "print(count)"
   ]
  },
  {
   "cell_type": "code",
   "execution_count": 24,
   "metadata": {},
   "outputs": [
    {
     "data": {
      "text/plain": [
       "0         Houston AstrosPhiladelphia Phillies20221105_0\n",
       "1         Houston AstrosPhiladelphia Phillies20221105_0\n",
       "2         Houston AstrosPhiladelphia Phillies20221105_0\n",
       "3         Houston AstrosPhiladelphia Phillies20221105_0\n",
       "4         Houston AstrosPhiladelphia Phillies20221105_0\n",
       "                              ...                      \n",
       "921709     Chicago White SoxMilwaukee Brewers20200722_0\n",
       "921710     Los Angeles AngelsSan Diego Padres20200722_0\n",
       "921711            Chicago CubsMinnesota Twins20200722_0\n",
       "921712        Boston Red SoxToronto Blue Jays20200722_0\n",
       "921713          Colorado RockiesTexas Rangers20200722_0\n",
       "Name: my_game_id_final, Length: 921714, dtype: object"
      ]
     },
     "execution_count": 24,
     "metadata": {},
     "output_type": "execute_result"
    }
   ],
   "source": [
    "# Takes about 2 minutes\n",
    "raw['my_game_id_final'] = raw['game_id'].apply(lambda x: next((k for k, v in new_dict.items() if v == x), None))\n",
    "raw['my_game_id_final']"
   ]
  },
  {
   "cell_type": "code",
   "execution_count": 25,
   "metadata": {},
   "outputs": [],
   "source": [
    "raw['winning_team'] = raw['my_game_id_final'].map(extra.set_index('my_id_game')['winning_team'])\n",
    "\n",
    "raw['number_of_game_today'] = raw['my_game_id_final'].map(extra.set_index('my_id_game')['number_of_game_today'])\n",
    "\n",
    "raw['day_of_week'] = raw['my_game_id_final'].map(extra.set_index('my_id_game')['day_of_week'])\n",
    "\n",
    "raw['away_team'] = raw['my_game_id_final'].map(extra.set_index('my_id_game')['away_team'])\n",
    "raw['away_team_league'] = raw['my_game_id_final'].map(extra.set_index('my_id_game')['away_team_league'])\n",
    "raw['away_team_game_number'] = raw['my_game_id_final'].map(extra.set_index('my_id_game')['away_team_game_number'])\n",
    "\n",
    "raw['home_team'] = raw['my_game_id_final'].map(extra.set_index('my_id_game')['home_team'])\n",
    "raw['home_team_league'] = raw['my_game_id_final'].map(extra.set_index('my_id_game')['home_team_league'])\n",
    "raw['home_team_game_number'] = raw['my_game_id_final'].map(extra.set_index('my_id_game')['home_team_game_number'])\n",
    "\n",
    "raw['day_night'] = raw['my_game_id_final'].map(extra.set_index('my_id_game')['day_night'])\n",
    "raw['park_id'] = raw['my_game_id_final'].map(extra.set_index('my_id_game')['park_id'])"
   ]
  },
  {
   "cell_type": "code",
   "execution_count": 26,
   "metadata": {},
   "outputs": [],
   "source": [
    "raw_last_1000 = raw.tail(1000)\n",
    "raw_last_1000.to_csv('/Users/stefanfeiler/Desktop/SmartBetter/SmartBetter/data/mlb_raw_final_last_1000.csv',index=False)"
   ]
  },
  {
   "cell_type": "code",
   "execution_count": 27,
   "metadata": {},
   "outputs": [],
   "source": [
    "raw_first_1000 = raw.head(1000)\n",
    "raw_first_1000.to_csv('/Users/stefanfeiler/Desktop/SmartBetter/SmartBetter/data/mlb_raw_final_first_1000.csv',index=False)"
   ]
  },
  {
   "cell_type": "code",
   "execution_count": 28,
   "metadata": {},
   "outputs": [],
   "source": [
    "raw.to_csv('/Users/stefanfeiler/Desktop/SmartBetter/SmartBetter/data/mlb_raw_final_categories.csv',index=False)"
   ]
  },
  {
   "cell_type": "code",
   "execution_count": 29,
   "metadata": {},
   "outputs": [],
   "source": [
    "raw.to_parquet('/Users/stefanfeiler/Desktop/SmartBetter/SmartBetter/data/mlb_raw_final_categories.parquet', index=False)"
   ]
  },
  {
   "cell_type": "code",
   "execution_count": 30,
   "metadata": {},
   "outputs": [],
   "source": [
    "raw = pd.read_parquet('/Users/stefanfeiler/Desktop/SmartBetter/SmartBetter/data/mlb_raw_final_categories.parquet')"
   ]
  },
  {
   "attachments": {},
   "cell_type": "markdown",
   "metadata": {},
   "source": [
    "# DONE!!!!"
   ]
  },
  {
   "cell_type": "code",
   "execution_count": 31,
   "metadata": {},
   "outputs": [],
   "source": [
    "# Some extra cleaning. We want to drop all columns where we don't know "
   ]
  },
  {
   "attachments": {},
   "cell_type": "markdown",
   "metadata": {},
   "source": [
    "# BEFORE WE DO ANYTHING, WE NEED TO READ IN THE FULL RAW CSV AND SAVE THE TEAM_1 AND TEAM_2 COLUMNS BACK INTO THE FINAL DF"
   ]
  },
  {
   "attachments": {},
   "cell_type": "markdown",
   "metadata": {},
   "source": [
    "raw = pd.read_parquet('/Users/stefanfeiler/Desktop/SmartBetter/SmartBetter/data/mlb_raw_final_categories.parquet')"
   ]
  },
  {
   "cell_type": "code",
   "execution_count": 32,
   "metadata": {},
   "outputs": [
    {
     "name": "stderr",
     "output_type": "stream",
     "text": [
      "/Users/stefanfeiler/Library/Python/3.9/lib/python/site-packages/IPython/core/interactiveshell.py:3505: DtypeWarning: Columns (90,92,94,96,110,112,114,116,118,120,122,124,126,128,130,132,134,136,138,140,142,144,146,148,150,152,154,156,158,160,162,164,166,168) have mixed types.Specify dtype option on import or set low_memory=False.\n",
      "  exec(code_obj, self.user_global_ns, self.user_ns)\n"
     ]
    }
   ],
   "source": [
    "raw_with_alpha_teams = pd.read_csv('/Users/stefanfeiler/Desktop/SmartBetter/SmartBetter/data/mlb_raw_full.csv')"
   ]
  },
  {
   "cell_type": "code",
   "execution_count": 33,
   "metadata": {},
   "outputs": [],
   "source": [
    "raw_home_away = pd.read_parquet('/Users/stefanfeiler/Desktop/SmartBetter/SmartBetter/data/mlb_raw_final_categories.parquet')"
   ]
  },
  {
   "cell_type": "code",
   "execution_count": 34,
   "metadata": {},
   "outputs": [
    {
     "name": "stdout",
     "output_type": "stream",
     "text": [
      "921714\n"
     ]
    }
   ],
   "source": [
    "print(len(raw_with_alpha_teams))"
   ]
  },
  {
   "cell_type": "code",
   "execution_count": 35,
   "metadata": {},
   "outputs": [
    {
     "name": "stdout",
     "output_type": "stream",
     "text": [
      "921714\n"
     ]
    }
   ],
   "source": [
    "print(len(raw_home_away))"
   ]
  },
  {
   "cell_type": "code",
   "execution_count": 36,
   "metadata": {},
   "outputs": [],
   "source": [
    "raw_home_away['team_1'] = raw_with_alpha_teams['home_team']\n",
    "raw_home_away['team_2'] = raw_with_alpha_teams['away_team']"
   ]
  },
  {
   "cell_type": "code",
   "execution_count": 37,
   "metadata": {},
   "outputs": [],
   "source": [
    "raw_home_away.to_parquet('/Users/stefanfeiler/Desktop/SmartBetter/SmartBetter/data/mlb_raw_final_categories.parquet', index=False)"
   ]
  },
  {
   "cell_type": "code",
   "execution_count": null,
   "metadata": {},
   "outputs": [],
   "source": []
  },
  {
   "attachments": {},
   "cell_type": "markdown",
   "metadata": {},
   "source": [
    "# More recent data"
   ]
  },
  {
   "cell_type": "code",
   "execution_count": 1,
   "metadata": {},
   "outputs": [],
   "source": [
    "# just found some more recent data. Have to process 2023 season up through the current date rn...."
   ]
  },
  {
   "cell_type": "code",
   "execution_count": 6,
   "metadata": {},
   "outputs": [],
   "source": [
    "names_file ='/Users/stefanfeiler/Desktop/SmartBetter/SmartBetter/data/names.csv'"
   ]
  },
  {
   "cell_type": "code",
   "execution_count": 7,
   "metadata": {},
   "outputs": [],
   "source": [
    "df = pd.read_csv(names_file)"
   ]
  },
  {
   "cell_type": "code",
   "execution_count": 8,
   "metadata": {},
   "outputs": [],
   "source": [
    "mapping_dict = {key: value for key, value in zip(df['abbrev'], df['full_name'])}"
   ]
  },
  {
   "cell_type": "code",
   "execution_count": 9,
   "metadata": {},
   "outputs": [],
   "source": [
    "extra_data_file = '/Users/stefanfeiler/Desktop/SmartBetter/SmartBetter/data/2023SKED.csv'"
   ]
  },
  {
   "cell_type": "code",
   "execution_count": 10,
   "metadata": {},
   "outputs": [],
   "source": [
    "extra_df = pd.read_csv(extra_data_file)"
   ]
  },
  {
   "cell_type": "code",
   "execution_count": 11,
   "metadata": {},
   "outputs": [],
   "source": [
    "extra_df = extra_df.replace(mapping_dict)"
   ]
  },
  {
   "cell_type": "code",
   "execution_count": 18,
   "metadata": {},
   "outputs": [],
   "source": [
    "extra_df.to_csv('/Users/stefanfeiler/Desktop/SmartBetter/SmartBetter/data/2023SKED_uniform_names.csv')"
   ]
  },
  {
   "cell_type": "code",
   "execution_count": 19,
   "metadata": {},
   "outputs": [],
   "source": [
    "# Nevermind! We don't have the scores....."
   ]
  },
  {
   "cell_type": "code",
   "execution_count": null,
   "metadata": {},
   "outputs": [],
   "source": []
  }
 ],
 "metadata": {
  "kernelspec": {
   "display_name": "Python 3",
   "language": "python",
   "name": "python3"
  },
  "language_info": {
   "codemirror_mode": {
    "name": "ipython",
    "version": 3
   },
   "file_extension": ".py",
   "mimetype": "text/x-python",
   "name": "python",
   "nbconvert_exporter": "python",
   "pygments_lexer": "ipython3",
   "version": "3.9.5"
  },
  "orig_nbformat": 4
 },
 "nbformat": 4,
 "nbformat_minor": 2
}
