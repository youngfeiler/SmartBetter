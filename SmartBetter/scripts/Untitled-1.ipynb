{
 "cells": [
  {
   "cell_type": "code",
   "execution_count": 62,
   "metadata": {},
   "outputs": [],
   "source": [
    "import pandas as pd\n",
    "import pyarrow as pa\n",
    "import pyarrow.parquet as pq\n",
    "from datetime import datetime"
   ]
  },
  {
   "attachments": {},
   "cell_type": "markdown",
   "metadata": {},
   "source": [
    "# Make team names uniform between sheets"
   ]
  },
  {
   "cell_type": "code",
   "execution_count": null,
   "metadata": {},
   "outputs": [],
   "source": [
    "names_file ='/Users/stefanfeiler/Desktop/SmartBetter/SmartBetter/data/names.csv'"
   ]
  },
  {
   "cell_type": "code",
   "execution_count": null,
   "metadata": {},
   "outputs": [],
   "source": [
    "df = pd.read_csv(names_file)"
   ]
  },
  {
   "cell_type": "code",
   "execution_count": null,
   "metadata": {},
   "outputs": [],
   "source": [
    "mapping_dict = {key: value for key, value in zip(df['abbrev'], df['full_name'])}"
   ]
  },
  {
   "cell_type": "code",
   "execution_count": null,
   "metadata": {},
   "outputs": [],
   "source": [
    "extra_data_file = '/Users/stefanfeiler/Desktop/SmartBetter/SmartBetter/data/mlb_extra_stats.csv'"
   ]
  },
  {
   "cell_type": "code",
   "execution_count": null,
   "metadata": {},
   "outputs": [],
   "source": [
    "extra_df = pd.read_csv(extra_data_file)"
   ]
  },
  {
   "cell_type": "code",
   "execution_count": null,
   "metadata": {},
   "outputs": [],
   "source": [
    "extra_df = extra_df.replace(mapping_dict)"
   ]
  },
  {
   "cell_type": "code",
   "execution_count": null,
   "metadata": {},
   "outputs": [],
   "source": [
    "extra_data_file_new = '/Users/stefanfeiler/Desktop/SmartBetter/SmartBetter/data/mlb_extra_stats_uniform_names.csv'"
   ]
  },
  {
   "cell_type": "code",
   "execution_count": null,
   "metadata": {},
   "outputs": [],
   "source": [
    "extra_df.to_csv(extra_data_file_new)"
   ]
  },
  {
   "attachments": {},
   "cell_type": "markdown",
   "metadata": {},
   "source": [
    "# Step 2: Convert all times to MST"
   ]
  },
  {
   "cell_type": "code",
   "execution_count": 63,
   "metadata": {},
   "outputs": [
    {
     "name": "stderr",
     "output_type": "stream",
     "text": [
      "/Users/stefanfeiler/Library/Python/3.9/lib/python/site-packages/IPython/core/interactiveshell.py:3505: DtypeWarning: Columns (90,92,94,96,110,112,114,116,118,120,122,124,126,128,130,132,134,136,138,140,142,144,146,148,150,152,154,156,158,160,162,164,166,168) have mixed types.Specify dtype option on import or set low_memory=False.\n",
      "  exec(code_obj, self.user_global_ns, self.user_ns)\n"
     ]
    }
   ],
   "source": [
    "raw = pd.read_csv('/Users/stefanfeiler/Desktop/SmartBetter/SmartBetter/data/mlb_raw_full.csv')"
   ]
  },
  {
   "cell_type": "code",
   "execution_count": 64,
   "metadata": {},
   "outputs": [],
   "source": [
    "# # This takes a few minutes\n",
    "time_columns = [col for col in raw.columns if 'time' in col]\n",
    "raw[time_columns] = raw[time_columns].astype('datetime64[ns]')"
   ]
  },
  {
   "cell_type": "code",
   "execution_count": 65,
   "metadata": {},
   "outputs": [],
   "source": [
    "raw[time_columns] = raw[time_columns] - pd.Timedelta(hours=7)"
   ]
  },
  {
   "attachments": {},
   "cell_type": "markdown",
   "metadata": {},
   "source": [
    "# Step 3: Make the same my_game_id values in each sheet"
   ]
  },
  {
   "cell_type": "code",
   "execution_count": 66,
   "metadata": {},
   "outputs": [],
   "source": [
    "extra = pd.read_csv(extra_data_file_new)"
   ]
  },
  {
   "cell_type": "code",
   "execution_count": 68,
   "metadata": {},
   "outputs": [],
   "source": [
    "raw['date'] = raw['commence_time'].dt.strftime('%Y%m%d')"
   ]
  },
  {
   "cell_type": "code",
   "execution_count": 69,
   "metadata": {},
   "outputs": [
    {
     "data": {
      "text/plain": [
       "0         20221105\n",
       "1         20221105\n",
       "2         20221105\n",
       "3         20221105\n",
       "4         20221105\n",
       "            ...   \n",
       "921709    20200722\n",
       "921710    20200722\n",
       "921711    20200722\n",
       "921712    20200722\n",
       "921713    20200722\n",
       "Name: date, Length: 921714, dtype: object"
      ]
     },
     "execution_count": 69,
     "metadata": {},
     "output_type": "execute_result"
    }
   ],
   "source": [
    "raw['date']"
   ]
  },
  {
   "cell_type": "code",
   "execution_count": 70,
   "metadata": {},
   "outputs": [
    {
     "data": {
      "text/plain": [
       "0         Houston AstrosPhiladelphia Phillies20221105\n",
       "1         Houston AstrosPhiladelphia Phillies20221105\n",
       "2         Houston AstrosPhiladelphia Phillies20221105\n",
       "3         Houston AstrosPhiladelphia Phillies20221105\n",
       "4         Houston AstrosPhiladelphia Phillies20221105\n",
       "                             ...                     \n",
       "921709     Chicago White SoxMilwaukee Brewers20200722\n",
       "921710     Los Angeles AngelsSan Diego Padres20200722\n",
       "921711            Chicago CubsMinnesota Twins20200722\n",
       "921712        Boston Red SoxToronto Blue Jays20200722\n",
       "921713          Colorado RockiesTexas Rangers20200722\n",
       "Name: my_id, Length: 921714, dtype: object"
      ]
     },
     "execution_count": 70,
     "metadata": {},
     "output_type": "execute_result"
    }
   ],
   "source": [
    "raw['my_id'] = raw['home_team'] + raw['away_team'] + raw['date']\n",
    "raw['my_id']"
   ]
  },
  {
   "cell_type": "code",
   "execution_count": 74,
   "metadata": {},
   "outputs": [
    {
     "data": {
      "text/plain": [
       "0       Los Angeles DodgersSan Francisco Giants20200723\n",
       "1          Washington NationalsNew York Yankees20200723\n",
       "2                 Chicago CubsMilwaukee Brewers20200724\n",
       "3                 Cincinnati RedsDetroit Tigers20200724\n",
       "4       Los Angeles DodgersSan Francisco Giants20200724\n",
       "                             ...                       \n",
       "5882        Houston AstrosPhiladelphia Phillies20221029\n",
       "5883        Philadelphia PhilliesHouston Astros20221101\n",
       "5884        Philadelphia PhilliesHouston Astros20221102\n",
       "5885        Philadelphia PhilliesHouston Astros20221103\n",
       "5886        Houston AstrosPhiladelphia Phillies20221105\n",
       "Name: my_id, Length: 5887, dtype: object"
      ]
     },
     "execution_count": 74,
     "metadata": {},
     "output_type": "execute_result"
    }
   ],
   "source": [
    "extra['date']= extra['date'].astype(str)\n",
    "extra['my_id'] = extra['home_team'] + extra['away_team'] + extra['date']\n",
    "extra['my_id']"
   ]
  },
  {
   "attachments": {},
   "cell_type": "markdown",
   "metadata": {},
   "source": [
    "# Step 4: Make a complicated dict"
   ]
  },
  {
   "cell_type": "code",
   "execution_count": 118,
   "metadata": {},
   "outputs": [],
   "source": [
    "# Make a dict that maps my_id to game_id and includes duplicates\n",
    "mapping_dict = {}\n",
    "for key, value in zip(raw['my_id'], raw['game_id']):\n",
    "    if key in mapping_dict:\n",
    "        mapping_dict[key].append(value)  # Append value to existing key's list\n",
    "        mapping_dict[key] = list(set(mapping_dict[key]))\n",
    "    else:\n",
    "        mapping_dict[key] = [value]  # Create a new key-value pair"
   ]
  },
  {
   "cell_type": "code",
   "execution_count": 119,
   "metadata": {},
   "outputs": [],
   "source": [
    "# Make a dict that maps game_id's to commence_times\n",
    "id_commence_dict = {key: value for key, value in zip(raw['game_id'], raw['commence_time'])}"
   ]
  },
  {
   "cell_type": "code",
   "execution_count": 121,
   "metadata": {},
   "outputs": [],
   "source": [
    "# Delete all double and triple headers\n",
    "new_dict = {key: value for key, value in mapping_dict.items() if len(value) == 1}"
   ]
  },
  {
   "cell_type": "code",
   "execution_count": 88,
   "metadata": {},
   "outputs": [],
   "source": []
  },
  {
   "cell_type": "code",
   "execution_count": 90,
   "metadata": {},
   "outputs": [
    {
     "name": "stdout",
     "output_type": "stream",
     "text": [
      "8\n"
     ]
    }
   ],
   "source": []
  },
  {
   "cell_type": "code",
   "execution_count": null,
   "metadata": {},
   "outputs": [],
   "source": []
  }
 ],
 "metadata": {
  "kernelspec": {
   "display_name": "Python 3",
   "language": "python",
   "name": "python3"
  },
  "language_info": {
   "codemirror_mode": {
    "name": "ipython",
    "version": 3
   },
   "file_extension": ".py",
   "mimetype": "text/x-python",
   "name": "python",
   "nbconvert_exporter": "python",
   "pygments_lexer": "ipython3",
   "version": "3.9.5"
  },
  "orig_nbformat": 4
 },
 "nbformat": 4,
 "nbformat_minor": 2
}
