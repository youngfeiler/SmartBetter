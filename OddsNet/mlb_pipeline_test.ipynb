{
 "cells": [
  {
   "cell_type": "code",
   "execution_count": 102,
   "id": "3a5f9b5f-7f90-4c7a-b099-dd4fe78403bd",
   "metadata": {},
   "outputs": [],
   "source": [
    "import pandas as pd\n",
    "import dask.dataframe as dd\n",
    "import pyarrow as pa\n",
    "import numpy as np\n",
    "import random\n",
    "import sklearn\n",
    "from sklearn.preprocessing import OneHotEncoder, StandardScaler\n",
    "import torch\n",
    "import torch.nn.functional as F\n",
    "from torch import nn\n",
    "import warnings\n",
    "warnings.filterwarnings(\"ignore\")\n",
    "import matplotlib.pyplot as plt\n",
    "from sklearn.model_selection import train_test_split\n",
    "import pickle"
   ]
  },
  {
   "cell_type": "code",
   "execution_count": 103,
   "id": "4d5425ed",
   "metadata": {},
   "outputs": [
    {
     "data": {
      "text/plain": [
       "<All keys matched successfully>"
      ]
     },
     "execution_count": 103,
     "metadata": {},
     "output_type": "execute_result"
    }
   ],
   "source": [
    "# Load the encoders from the file\n",
    "with open('MODELS/mlb_encoders.pkl', 'rb') as file:\n",
    "    encoders = pickle.load(file)\n",
    "\n",
    "# Load the scaler from the file\n",
    "with open('MODELS/mlb_scaler.pkl', 'rb') as file:\n",
    "    scaler = pickle.load(file)\n",
    "\n",
    "model = torch.nn.Sequential(   \n",
    "    torch.nn.Linear(137,256),\n",
    "    torch.nn.ReLU(),\n",
    "    torch.nn.Linear(256,128),\n",
    "    torch.nn.ReLU(),\n",
    "    torch.nn.Linear(128,64),\n",
    "    torch.nn.ReLU(),\n",
    "    torch.nn.Linear(64,64),\n",
    "    torch.nn.ReLU(),\n",
    "    torch.nn.Linear(64,16),\n",
    "    torch.nn.ReLU(),\n",
    "    torch.nn.Linear(16,1)\n",
    ")\n",
    "\n",
    "# Load the saved model state\n",
    "model.load_state_dict(torch.load('MODELS/mlb_model.pth'))"
   ]
  },
  {
   "cell_type": "code",
   "execution_count": 104,
   "id": "f3e4ad16-e7c3-4b32-ba25-46e3df59e165",
   "metadata": {},
   "outputs": [],
   "source": [
    "# Read the raw data file and get the first datapoint\n",
    "df = pd.read_parquet('/Users/stefanfeiler/Desktop/SmartBetter/SmartBetter/data/mlb_for_model.parquet')"
   ]
  },
  {
   "cell_type": "code",
   "execution_count": 197,
   "id": "fa86a54a",
   "metadata": {},
   "outputs": [],
   "source": [
    "first_row = df.iloc[100001]  # Get a sample row as a sample datapoint \n",
    "new_df = pd.DataFrame([first_row], columns=df.columns)"
   ]
  },
  {
   "cell_type": "code",
   "execution_count": 198,
   "id": "4111608f",
   "metadata": {},
   "outputs": [],
   "source": [
    "# DON'T TOUCH. ORDER IS VERY IMPORTANT\n",
    "continuous_cols = [col for col in new_df.columns if '_odds' in col]\n",
    "continuous_cols.append('minutes_since_commence')\n",
    "continuous_cols.append('this_team_game_of_season')\n",
    "continuous_cols.append('opponent_game_of_season')\n",
    "categorical_cols = ['home_away', 'team_1', 'hour_of_start', 'day_of_week', 'number_of_game_today', 'day_night', 'park_id', 'this_team_league', 'opponent_league']\n",
    "dp_raw = pd.concat([new_df[continuous_cols], new_df[categorical_cols]], axis=1)"
   ]
  },
  {
   "cell_type": "code",
   "execution_count": 199,
   "id": "0ca95341",
   "metadata": {},
   "outputs": [
    {
     "data": {
      "text/html": [
       "<div>\n",
       "<style scoped>\n",
       "    .dataframe tbody tr th:only-of-type {\n",
       "        vertical-align: middle;\n",
       "    }\n",
       "\n",
       "    .dataframe tbody tr th {\n",
       "        vertical-align: top;\n",
       "    }\n",
       "\n",
       "    .dataframe thead th {\n",
       "        text-align: right;\n",
       "    }\n",
       "</style>\n",
       "<table border=\"1\" class=\"dataframe\">\n",
       "  <thead>\n",
       "    <tr style=\"text-align: right;\">\n",
       "      <th></th>\n",
       "      <th>barstool_1_odds</th>\n",
       "      <th>betclic_1_odds</th>\n",
       "      <th>betfair_1_odds</th>\n",
       "      <th>betfred_1_odds</th>\n",
       "      <th>betmgm_1_odds</th>\n",
       "      <th>betonlineag_1_odds</th>\n",
       "      <th>betrivers_1_odds</th>\n",
       "      <th>betus_1_odds</th>\n",
       "      <th>betway_1_odds</th>\n",
       "      <th>bovada_1_odds</th>\n",
       "      <th>...</th>\n",
       "      <th>opponent_game_of_season</th>\n",
       "      <th>home_away</th>\n",
       "      <th>team_1</th>\n",
       "      <th>hour_of_start</th>\n",
       "      <th>day_of_week</th>\n",
       "      <th>number_of_game_today</th>\n",
       "      <th>day_night</th>\n",
       "      <th>park_id</th>\n",
       "      <th>this_team_league</th>\n",
       "      <th>opponent_league</th>\n",
       "    </tr>\n",
       "  </thead>\n",
       "  <tbody>\n",
       "    <tr>\n",
       "      <th>100001</th>\n",
       "      <td>2.15</td>\n",
       "      <td>2.15</td>\n",
       "      <td>2.17</td>\n",
       "      <td>2.15</td>\n",
       "      <td>2.16</td>\n",
       "      <td>2.14</td>\n",
       "      <td>2.17</td>\n",
       "      <td>2.2</td>\n",
       "      <td>2.13</td>\n",
       "      <td>2.17</td>\n",
       "      <td>...</td>\n",
       "      <td>111.0</td>\n",
       "      <td>1</td>\n",
       "      <td>Los Angeles Angels</td>\n",
       "      <td>18</td>\n",
       "      <td>Fri</td>\n",
       "      <td>0</td>\n",
       "      <td>N</td>\n",
       "      <td>ANA01</td>\n",
       "      <td>AL</td>\n",
       "      <td>AL</td>\n",
       "    </tr>\n",
       "  </tbody>\n",
       "</table>\n",
       "<p>1 rows × 51 columns</p>\n",
       "</div>"
      ],
      "text/plain": [
       "        barstool_1_odds  betclic_1_odds  betfair_1_odds  betfred_1_odds  \\\n",
       "100001             2.15            2.15            2.17            2.15   \n",
       "\n",
       "        betmgm_1_odds  betonlineag_1_odds  betrivers_1_odds  betus_1_odds  \\\n",
       "100001           2.16                2.14              2.17           2.2   \n",
       "\n",
       "        betway_1_odds  bovada_1_odds  ...  opponent_game_of_season  home_away  \\\n",
       "100001           2.13           2.17  ...                    111.0          1   \n",
       "\n",
       "                    team_1  hour_of_start  day_of_week  number_of_game_today  \\\n",
       "100001  Los Angeles Angels             18          Fri                     0   \n",
       "\n",
       "        day_night  park_id  this_team_league  opponent_league  \n",
       "100001          N    ANA01                AL               AL  \n",
       "\n",
       "[1 rows x 51 columns]"
      ]
     },
     "execution_count": 199,
     "metadata": {},
     "output_type": "execute_result"
    }
   ],
   "source": [
    "dp_raw.head()"
   ]
  },
  {
   "cell_type": "code",
   "execution_count": 200,
   "id": "ac8664a3",
   "metadata": {},
   "outputs": [],
   "source": [
    "dp_raw_np = np.array(dp_raw)"
   ]
  },
  {
   "cell_type": "code",
   "execution_count": 201,
   "id": "fad3a396",
   "metadata": {},
   "outputs": [
    {
     "data": {
      "text/plain": [
       "array([[1, 'Los Angeles Angels', 18, 'Fri', '0', 'N', 'ANA01', 'AL',\n",
       "        'AL']], dtype=object)"
      ]
     },
     "execution_count": 201,
     "metadata": {},
     "output_type": "execute_result"
    }
   ],
   "source": [
    "dp_raw_np[:, 42:]"
   ]
  },
  {
   "cell_type": "code",
   "execution_count": 202,
   "id": "e006675c-e96b-479f-8ed2-2eaacb72a2dc",
   "metadata": {},
   "outputs": [],
   "source": [
    "# Define the indices of the columns you want to standardize and those we don't\n",
    "continuous_vars = dp_raw_np[:, :42]\n",
    "categorical_vars = dp_raw_np[:, 42:]"
   ]
  },
  {
   "cell_type": "code",
   "execution_count": 203,
   "id": "b9e6ba41",
   "metadata": {},
   "outputs": [
    {
     "data": {
      "text/plain": [
       "array([1, 'Los Angeles Angels', 18, 'Fri', '0', 'N', 'ANA01', 'AL', 'AL'],\n",
       "      dtype=object)"
      ]
     },
     "execution_count": 203,
     "metadata": {},
     "output_type": "execute_result"
    }
   ],
   "source": [
    "categorical_vars[0]"
   ]
  },
  {
   "cell_type": "code",
   "execution_count": 204,
   "id": "36afb85d",
   "metadata": {},
   "outputs": [
    {
     "data": {
      "text/plain": [
       "{'home_away': OneHotEncoder(sparse_output=False),\n",
       " 'team_1': OneHotEncoder(sparse_output=False),\n",
       " 'hour_of_start': OneHotEncoder(sparse_output=False),\n",
       " 'day_of_week': OneHotEncoder(sparse_output=False),\n",
       " 'number_of_game_today': OneHotEncoder(sparse_output=False),\n",
       " 'day_night': OneHotEncoder(sparse_output=False),\n",
       " 'park_id': OneHotEncoder(sparse_output=False),\n",
       " 'this_team_league': OneHotEncoder(sparse_output=False),\n",
       " 'opponent_league': OneHotEncoder(sparse_output=False)}"
      ]
     },
     "execution_count": 204,
     "metadata": {},
     "output_type": "execute_result"
    }
   ],
   "source": [
    "encoders"
   ]
  },
  {
   "cell_type": "code",
   "execution_count": 205,
   "id": "b6f3886f",
   "metadata": {},
   "outputs": [],
   "source": [
    "# Create an instance of StandardScaler and fit it on the training data\n",
    "scaled_continuous = scaler.transform(continuous_vars)"
   ]
  },
  {
   "cell_type": "code",
   "execution_count": 206,
   "id": "4a7e364d-ba18-49f3-89a0-7032f30fe5b3",
   "metadata": {},
   "outputs": [
    {
     "data": {
      "text/plain": [
       "array([[0., 1., 0., 0., 0., 0., 0., 0., 0., 0., 0., 0., 0., 0., 1., 0.,\n",
       "        0., 0., 0., 0., 0., 0., 0., 0., 0., 0., 0., 0., 0., 0., 0., 0.,\n",
       "        0., 0., 0., 0., 0., 0., 0., 0., 0., 0., 1., 0., 0., 1., 0., 0.,\n",
       "        0., 0., 0., 0., 1., 0., 0., 0., 1., 1., 0., 0., 0., 0., 0., 0.,\n",
       "        0., 0., 0., 0., 0., 0., 0., 0., 0., 0., 0., 0., 0., 0., 0., 0.,\n",
       "        0., 0., 0., 0., 0., 0., 0., 0., 0., 0., 0., 1., 0., 1., 0.]])"
      ]
     },
     "execution_count": 206,
     "metadata": {},
     "output_type": "execute_result"
    }
   ],
   "source": [
    "one_hot_encoded_row = []\n",
    "for i, col_name in enumerate(categorical_cols):\n",
    "    value = categorical_vars[0][i]\n",
    "\n",
    "    encoder = encoders[col_name]  # Get the corresponding encoder\n",
    "    encoded_value = encoder.transform([[value]])  # Pass a 2D array-like input\n",
    "    one_hot_encoded_row.append(encoded_value)\n",
    "\n",
    "one_hot_encoded_row = np.concatenate(one_hot_encoded_row, axis=1)  # Combine encoded values\n",
    "\n",
    "one_hot_encoded_row"
   ]
  },
  {
   "cell_type": "code",
   "execution_count": 207,
   "id": "f738128d",
   "metadata": {},
   "outputs": [],
   "source": [
    "final_data_point = np.concatenate((scaled_continuous, one_hot_encoded_row), axis=1)"
   ]
  },
  {
   "cell_type": "code",
   "execution_count": 208,
   "id": "cf4b47ce",
   "metadata": {},
   "outputs": [
    {
     "data": {
      "text/plain": [
       "(1, 137)"
      ]
     },
     "execution_count": 208,
     "metadata": {},
     "output_type": "execute_result"
    }
   ],
   "source": [
    "final_data_point.shape"
   ]
  },
  {
   "cell_type": "code",
   "execution_count": 209,
   "id": "960a0108",
   "metadata": {},
   "outputs": [],
   "source": [
    "input_tensor = torch.tensor(final_data_point, dtype=torch.float32)"
   ]
  },
  {
   "cell_type": "code",
   "execution_count": 210,
   "id": "c0db0af3",
   "metadata": {},
   "outputs": [
    {
     "data": {
      "text/plain": [
       "array([[-6.9872856]], dtype=float32)"
      ]
     },
     "execution_count": 210,
     "metadata": {},
     "output_type": "execute_result"
    }
   ],
   "source": [
    "output_tensor = model(input_tensor)\n",
    "output_predictions = output_tensor.detach().numpy()\n",
    "output_predictions"
   ]
  },
  {
   "cell_type": "code",
   "execution_count": null,
   "id": "83ca075c",
   "metadata": {},
   "outputs": [],
   "source": []
  }
 ],
 "metadata": {
  "kernelspec": {
   "display_name": "Python 3 (ipykernel)",
   "language": "python",
   "name": "python3"
  },
  "language_info": {
   "codemirror_mode": {
    "name": "ipython",
    "version": 3
   },
   "file_extension": ".py",
   "mimetype": "text/x-python",
   "name": "python",
   "nbconvert_exporter": "python",
   "pygments_lexer": "ipython3",
   "version": "3.9.5"
  }
 },
 "nbformat": 4,
 "nbformat_minor": 5
}
