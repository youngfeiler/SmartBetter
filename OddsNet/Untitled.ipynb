{
 "cells": [
  {
   "cell_type": "code",
   "execution_count": 8,
   "id": "3a5f9b5f-7f90-4c7a-b099-dd4fe78403bd",
   "metadata": {},
   "outputs": [],
   "source": [
    "import pandas as pd\n",
    "import pyarrow as pa\n",
    "import numpy as np\n",
    "import random\n",
    "from sklearn.preprocessing import OneHotEncoder, StandardScaler\n",
    "import torch\n",
    "import torch.nn.functional as F\n",
    "from torch import nn\n",
    "import warnings\n",
    "warnings.filterwarnings(\"ignore\")"
   ]
  },
  {
   "cell_type": "code",
   "execution_count": 24,
   "id": "f3e4ad16-e7c3-4b32-ba25-46e3df59e165",
   "metadata": {},
   "outputs": [],
   "source": [
    "df = pd.read_parquet('/Users/stefanfeiler/Desktop/SmartBetter/SmartBetter/data/stacked_w_opponent_TEST.parquet')"
   ]
  },
  {
   "cell_type": "code",
   "execution_count": 25,
   "id": "922230de-2afb-4197-b2f3-4801382a72eb",
   "metadata": {},
   "outputs": [],
   "source": [
    "unique_teams = df['team_1'].unique()"
   ]
  },
  {
   "cell_type": "code",
   "execution_count": 26,
   "id": "a11137ec",
   "metadata": {},
   "outputs": [],
   "source": [
    "df['game_avg_odds'] = np.nan  # Use np.nan to represent missing values\n",
    "\n",
    "df['game_avg_odds'] = df.groupby(['game_id', 'team_1'])['average_market_odds'].transform('mean')"
   ]
  },
  {
   "cell_type": "code",
   "execution_count": 27,
   "id": "d5877f41",
   "metadata": {},
   "outputs": [],
   "source": [
    "df['game_id_plus_team'] = df['game_id'] + df['team_1']"
   ]
  },
  {
   "cell_type": "code",
   "execution_count": 28,
   "id": "69f6e9b4",
   "metadata": {},
   "outputs": [],
   "source": [
    "my_dict = {game_id: list(group['team_1'].unique()) for game_id, group in df.groupby('game_id')}\n",
    "game_team_dict = {key: [value for value in value_list if value is not None] for key, value_list in my_dict.items()}"
   ]
  },
  {
   "cell_type": "code",
   "execution_count": 29,
   "id": "5400fff3",
   "metadata": {},
   "outputs": [],
   "source": [
    "# store each team_game_id prev_odds in a dict: team_1_game_id: [prev_n_odds against this team]\n",
    "# find all instances of the this team playing that team\n",
    "# get the average odds for n games below \n",
    "# store"
   ]
  },
  {
   "cell_type": "code",
   "execution_count": 30,
   "id": "1ed14c7c",
   "metadata": {},
   "outputs": [],
   "source": [
    "# V for team in unique teams \n",
    "# V for game played by team \n",
    "# V find opponent name with dict lookup (game_id: val)\n",
    "# V filter the df for just those matchups \n",
    "# find n prev games \n"
   ]
  },
  {
   "cell_type": "code",
   "execution_count": 69,
   "id": "9fddf629",
   "metadata": {},
   "outputs": [],
   "source": [
    "my_new_dict = {}\n",
    "n = 2\n",
    "\n",
    "for team in unique_teams:\n",
    "    \n",
    "    team_df = df[df['team_1'] == team]\n",
    "\n",
    "    subset_df = team_df.drop_duplicates(subset='game_id')\n",
    "\n",
    "    unique_opponents = team_df['opponent'].unique()\n",
    "\n",
    "    for opponent in unique_opponents:\n",
    "        matchups_df = subset_df[subset_df['opponent'] == opponent]\n",
    "    \n",
    "        for i in range(n):\n",
    "            matchups_df[f'prev_matchup_{i+1}'] = matchups_df['game_avg_odds'].shift(-(i+1))\n",
    "\n",
    "        for index, row in matchups_df.iterrows():\n",
    "            my_list = []\n",
    "            for i in range(n):\n",
    "                val = row[f'prev_matchup_{i+1}']\n",
    "\n",
    "                if not np.isnan(val):\n",
    "                    my_list.append(val)\n",
    "            \n",
    "            my_new_dict[row['game_id_plus_team']] = my_list\n",
    "\n",
    "    my_dict = {key: value if type(value) is list else [value] for key, value in my_new_dict.items()}\n",
    "    map_dict = {}\n",
    "    for key, value_list in my_dict.items():\n",
    "        if len(value_list) > 0:\n",
    "            average_value  = np.mean(value_list).item()\n",
    "            map_dict[key] = average_value\n",
    "        else:\n",
    "            map_dict[key] = 2\n",
    "\n",
    "    df['last_n_matchup_avg_odds'] = df['game_id_plus_team'].map(map_dict)"
   ]
  },
  {
   "cell_type": "code",
   "execution_count": 70,
   "id": "070b148a",
   "metadata": {},
   "outputs": [
    {
     "data": {
      "text/plain": [
       "12128      3.771276\n",
       "12140      3.771276\n",
       "12155      3.771276\n",
       "12171      3.771276\n",
       "12188      3.771276\n",
       "             ...   \n",
       "1734969    2.000000\n",
       "1734982    2.000000\n",
       "1734995    2.000000\n",
       "1735009    2.000000\n",
       "1735023    2.000000\n",
       "Name: last_n_matchup_avg_odds, Length: 58116, dtype: float64"
      ]
     },
     "execution_count": 70,
     "metadata": {},
     "output_type": "execute_result"
    }
   ],
   "source": [
    "# Testing this\n",
    "df_rockies = df[df['team_1'] == 'Colorado Rockies']\n",
    "df_rockies['last_n_matchup_avg_odds']"
   ]
  },
  {
   "cell_type": "code",
   "execution_count": 71,
   "id": "5b55abcf",
   "metadata": {},
   "outputs": [],
   "source": [
    "df_rockies.to_csv('/Users/stefanfeiler/Desktop/rockies_test_4.csv')"
   ]
  },
  {
   "cell_type": "code",
   "execution_count": null,
   "id": "6fc663b1",
   "metadata": {},
   "outputs": [],
   "source": []
  }
 ],
 "metadata": {
  "kernelspec": {
   "display_name": "Python 3 (ipykernel)",
   "language": "python",
   "name": "python3"
  },
  "language_info": {
   "codemirror_mode": {
    "name": "ipython",
    "version": 3
   },
   "file_extension": ".py",
   "mimetype": "text/x-python",
   "name": "python",
   "nbconvert_exporter": "python",
   "pygments_lexer": "ipython3",
   "version": "3.10.10"
  }
 },
 "nbformat": 4,
 "nbformat_minor": 5
}
