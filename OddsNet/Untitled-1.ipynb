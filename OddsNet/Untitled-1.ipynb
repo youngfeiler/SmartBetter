{
 "cells": [
  {
   "cell_type": "code",
   "execution_count": 5,
   "metadata": {},
   "outputs": [],
   "source": [
    "import pandas as pd\n",
    "import sklearn\n",
    "from sklearn.model_selection import train_test_split\n"
   ]
  },
  {
   "cell_type": "code",
   "execution_count": 33,
   "metadata": {},
   "outputs": [],
   "source": [
    "f_1 = pd.read_csv('/Users/stefanfeiler/Desktop/SmartBetter/SmartBetter/data/tuning_info_test.csv')"
   ]
  },
  {
   "cell_type": "code",
   "execution_count": 34,
   "metadata": {},
   "outputs": [],
   "source": [
    "f_2 = pd.read_csv('/Users/stefanfeiler/Desktop/SmartBetter/SmartBetter/data/tuning_info.csv')"
   ]
  },
  {
   "cell_type": "code",
   "execution_count": 35,
   "metadata": {},
   "outputs": [],
   "source": [
    "new_df = pd.concat([f_1, f_2], axis = 1)"
   ]
  },
  {
   "cell_type": "code",
   "execution_count": 36,
   "metadata": {},
   "outputs": [],
   "source": [
    "new_df.to_csv('/Users/stefanfeiler/Desktop/concat_test.csv', index=False)"
   ]
  },
  {
   "cell_type": "code",
   "execution_count": 39,
   "metadata": {},
   "outputs": [
    {
     "name": "stdout",
     "output_type": "stream",
     "text": [
      "[('relu', 0.001, 'on', 5, 128), ('relu', 0.001, 'on', 5, 256), ('relu', 0.001, 'on', 5, 512), ('relu', 0.001, 'on', 5, 1024), ('relu', 0.001, 'on', 5, 2048), ('relu', 0.001, 'on', 5, 4096), ('relu', 0.001, 'on', 10, 128), ('relu', 0.001, 'on', 10, 256), ('relu', 0.001, 'on', 10, 512), ('relu', 0.001, 'on', 10, 1024), ('relu', 0.001, 'on', 10, 2048), ('relu', 0.001, 'on', 10, 4096), ('relu', 0.001, 'off', 5, 128), ('relu', 0.001, 'off', 5, 256), ('relu', 0.001, 'off', 5, 512), ('relu', 0.001, 'off', 5, 1024), ('relu', 0.001, 'off', 5, 2048), ('relu', 0.001, 'off', 5, 4096), ('relu', 0.001, 'off', 10, 128), ('relu', 0.001, 'off', 10, 256), ('relu', 0.001, 'off', 10, 512), ('relu', 0.001, 'off', 10, 1024), ('relu', 0.001, 'off', 10, 2048), ('relu', 0.001, 'off', 10, 4096), ('relu', 0.01, 'on', 5, 128), ('relu', 0.01, 'on', 5, 256), ('relu', 0.01, 'on', 5, 512), ('relu', 0.01, 'on', 5, 1024), ('relu', 0.01, 'on', 5, 2048), ('relu', 0.01, 'on', 5, 4096), ('relu', 0.01, 'on', 10, 128), ('relu', 0.01, 'on', 10, 256), ('relu', 0.01, 'on', 10, 512), ('relu', 0.01, 'on', 10, 1024), ('relu', 0.01, 'on', 10, 2048), ('relu', 0.01, 'on', 10, 4096), ('relu', 0.01, 'off', 5, 128), ('relu', 0.01, 'off', 5, 256), ('relu', 0.01, 'off', 5, 512), ('relu', 0.01, 'off', 5, 1024), ('relu', 0.01, 'off', 5, 2048), ('relu', 0.01, 'off', 5, 4096), ('relu', 0.01, 'off', 10, 128), ('relu', 0.01, 'off', 10, 256), ('relu', 0.01, 'off', 10, 512), ('relu', 0.01, 'off', 10, 1024), ('relu', 0.01, 'off', 10, 2048), ('relu', 0.01, 'off', 10, 4096), ('relu', 0.1, 'on', 5, 128), ('relu', 0.1, 'on', 5, 256), ('relu', 0.1, 'on', 5, 512), ('relu', 0.1, 'on', 5, 1024), ('relu', 0.1, 'on', 5, 2048), ('relu', 0.1, 'on', 5, 4096), ('relu', 0.1, 'on', 10, 128), ('relu', 0.1, 'on', 10, 256), ('relu', 0.1, 'on', 10, 512), ('relu', 0.1, 'on', 10, 1024), ('relu', 0.1, 'on', 10, 2048), ('relu', 0.1, 'on', 10, 4096), ('relu', 0.1, 'off', 5, 128), ('relu', 0.1, 'off', 5, 256), ('relu', 0.1, 'off', 5, 512), ('relu', 0.1, 'off', 5, 1024), ('relu', 0.1, 'off', 5, 2048), ('relu', 0.1, 'off', 5, 4096), ('relu', 0.1, 'off', 10, 128), ('relu', 0.1, 'off', 10, 256), ('relu', 0.1, 'off', 10, 512), ('relu', 0.1, 'off', 10, 1024), ('relu', 0.1, 'off', 10, 2048), ('relu', 0.1, 'off', 10, 4096), ('silu', 0.001, 'on', 5, 128), ('silu', 0.001, 'on', 5, 256), ('silu', 0.001, 'on', 5, 512), ('silu', 0.001, 'on', 5, 1024), ('silu', 0.001, 'on', 5, 2048), ('silu', 0.001, 'on', 5, 4096), ('silu', 0.001, 'on', 10, 128), ('silu', 0.001, 'on', 10, 256), ('silu', 0.001, 'on', 10, 512), ('silu', 0.001, 'on', 10, 1024), ('silu', 0.001, 'on', 10, 2048), ('silu', 0.001, 'on', 10, 4096), ('silu', 0.001, 'off', 5, 128), ('silu', 0.001, 'off', 5, 256), ('silu', 0.001, 'off', 5, 512), ('silu', 0.001, 'off', 5, 1024), ('silu', 0.001, 'off', 5, 2048), ('silu', 0.001, 'off', 5, 4096), ('silu', 0.001, 'off', 10, 128), ('silu', 0.001, 'off', 10, 256), ('silu', 0.001, 'off', 10, 512), ('silu', 0.001, 'off', 10, 1024), ('silu', 0.001, 'off', 10, 2048), ('silu', 0.001, 'off', 10, 4096), ('silu', 0.01, 'on', 5, 128), ('silu', 0.01, 'on', 5, 256), ('silu', 0.01, 'on', 5, 512), ('silu', 0.01, 'on', 5, 1024), ('silu', 0.01, 'on', 5, 2048), ('silu', 0.01, 'on', 5, 4096), ('silu', 0.01, 'on', 10, 128), ('silu', 0.01, 'on', 10, 256), ('silu', 0.01, 'on', 10, 512), ('silu', 0.01, 'on', 10, 1024), ('silu', 0.01, 'on', 10, 2048), ('silu', 0.01, 'on', 10, 4096), ('silu', 0.01, 'off', 5, 128), ('silu', 0.01, 'off', 5, 256), ('silu', 0.01, 'off', 5, 512), ('silu', 0.01, 'off', 5, 1024), ('silu', 0.01, 'off', 5, 2048), ('silu', 0.01, 'off', 5, 4096), ('silu', 0.01, 'off', 10, 128), ('silu', 0.01, 'off', 10, 256), ('silu', 0.01, 'off', 10, 512), ('silu', 0.01, 'off', 10, 1024), ('silu', 0.01, 'off', 10, 2048), ('silu', 0.01, 'off', 10, 4096), ('silu', 0.1, 'on', 5, 128), ('silu', 0.1, 'on', 5, 256), ('silu', 0.1, 'on', 5, 512), ('silu', 0.1, 'on', 5, 1024), ('silu', 0.1, 'on', 5, 2048), ('silu', 0.1, 'on', 5, 4096), ('silu', 0.1, 'on', 10, 128), ('silu', 0.1, 'on', 10, 256), ('silu', 0.1, 'on', 10, 512), ('silu', 0.1, 'on', 10, 1024), ('silu', 0.1, 'on', 10, 2048), ('silu', 0.1, 'on', 10, 4096), ('silu', 0.1, 'off', 5, 128), ('silu', 0.1, 'off', 5, 256), ('silu', 0.1, 'off', 5, 512), ('silu', 0.1, 'off', 5, 1024), ('silu', 0.1, 'off', 5, 2048), ('silu', 0.1, 'off', 5, 4096), ('silu', 0.1, 'off', 10, 128), ('silu', 0.1, 'off', 10, 256), ('silu', 0.1, 'off', 10, 512), ('silu', 0.1, 'off', 10, 1024), ('silu', 0.1, 'off', 10, 2048), ('silu', 0.1, 'off', 10, 4096)]\n"
     ]
    }
   ],
   "source": [
    "import itertools\n",
    "\n",
    "# Sample lists\n",
    "architecture = ['relu', 'silu']\n",
    "learning_rate = [.001, .01, .1]\n",
    "weight_decay = ['on', 'off']\n",
    "num_epochs = [5, 10]\n",
    "batch_size = [128, 256, 512, 1024, 2048, 4096]\n",
    "\n",
    "# Create a list of combinations\n",
    "combinations = list(itertools.product(architecture, learning_rate, weight_decay, num_epochs, batch_size))\n",
    "\n",
    "print(combinations)\n",
    "\n",
    "df = pd.DataFrame(combinations, columns=['architecture', 'learning_rate', 'weight_decay', 'num_epochs', 'batch_size'])\n",
    "\n",
    "df.head()\n",
    "\n",
    "df.to_csv('/Users/stefanfeiler/Desktop/SmartBetter/SmartBetter/data/tuning_info_test.csv')\n"
   ]
  },
  {
   "cell_type": "code",
   "execution_count": null,
   "metadata": {},
   "outputs": [],
   "source": []
  }
 ],
 "metadata": {
  "kernelspec": {
   "display_name": "Python 3",
   "language": "python",
   "name": "python3"
  },
  "language_info": {
   "codemirror_mode": {
    "name": "ipython",
    "version": 3
   },
   "file_extension": ".py",
   "mimetype": "text/x-python",
   "name": "python",
   "nbconvert_exporter": "python",
   "pygments_lexer": "ipython3",
   "version": "3.9.5"
  },
  "orig_nbformat": 4
 },
 "nbformat": 4,
 "nbformat_minor": 2
}
